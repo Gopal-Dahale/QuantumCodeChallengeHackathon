{
 "cells": [
  {
   "cell_type": "markdown",
   "id": "720df07f-f237-48da-a236-d3c27a8a42b2",
   "metadata": {
    "editable": true,
    "slideshow": {
     "slide_type": ""
    },
    "tags": []
   },
   "source": [
    "# Classical Support Vector Classifier"
   ]
  },
  {
   "cell_type": "code",
   "execution_count": 1,
   "id": "eb1da546-e5f2-4326-96f8-a7d0a24a53da",
   "metadata": {},
   "outputs": [],
   "source": [
    "import matplotlib.pyplot as plt\n",
    "import numpy as np\n",
    "import pandas as pd\n",
    "from imblearn.combine import SMOTETomek\n",
    "from imblearn.pipeline import make_pipeline\n",
    "from sklearn.metrics import (\n",
    "    PrecisionRecallDisplay,\n",
    "    accuracy_score,\n",
    "    classification_report,\n",
    "    confusion_matrix,\n",
    "    f1_score,\n",
    "    precision_recall_curve,\n",
    "    precision_score,\n",
    "    r2_score,\n",
    "    recall_score,\n",
    "    roc_auc_score,\n",
    ")\n",
    "from sklearn.model_selection import StratifiedKFold, cross_val_score, train_test_split\n",
    "from sklearn.preprocessing import StandardScaler\n",
    "from sklearn.svm import SVC\n",
    "from imblearn.over_sampling import RandomOverSampler\n",
    "from imblearn.under_sampling import TomekLinks\n",
    "from sklearn.model_selection import GridSearchCV\n",
    "from sklearn.base import clone\n",
    "from sklearn.metrics import RocCurveDisplay, roc_curve\n",
    "\n",
    "seed = 42\n",
    "np.random.seed(42)"
   ]
  },
  {
   "cell_type": "markdown",
   "id": "b543b000-4a32-4143-b7cc-6f502a7c9186",
   "metadata": {},
   "source": [
    "## Data preparation\n",
    "\n",
    "We use the weather dataset by AccuWeather Service. Since 5xx denotes rain, we make it class 1 and refer others as class 0"
   ]
  },
  {
   "cell_type": "code",
   "execution_count": 2,
   "id": "662ca216-b9bc-4763-84fd-394f10fc8743",
   "metadata": {},
   "outputs": [
    {
     "data": {
      "text/plain": [
       "(1658, 12)"
      ]
     },
     "execution_count": 2,
     "metadata": {},
     "output_type": "execute_result"
    }
   ],
   "source": [
    "df = pd.read_csv(\"weather/weather-010824-061024.csv\")\n",
    "df.shape"
   ]
  },
  {
   "cell_type": "code",
   "execution_count": 3,
   "id": "ea7e6463-9ed4-4152-9b60-3ef133d65c48",
   "metadata": {},
   "outputs": [],
   "source": [
    "def weather_map(x):\n",
    "    val = int(x / 100)\n",
    "    if val == 5:\n",
    "        return 1\n",
    "    return 0\n",
    "\n",
    "\n",
    "df[\"is_rain\"] = df.cod_weather.apply(weather_map)"
   ]
  },
  {
   "cell_type": "code",
   "execution_count": 4,
   "id": "74a3f82e-0130-4c01-bc37-ac2aad36d900",
   "metadata": {},
   "outputs": [
    {
     "data": {
      "text/plain": [
       "is_rain\n",
       "0    1625\n",
       "1      33\n",
       "Name: count, dtype: int64"
      ]
     },
     "execution_count": 4,
     "metadata": {},
     "output_type": "execute_result"
    }
   ],
   "source": [
    "df.is_rain.value_counts()"
   ]
  },
  {
   "cell_type": "code",
   "execution_count": 5,
   "id": "aa9affce-4cc9-4c3e-bc1f-bd563d70c4fe",
   "metadata": {},
   "outputs": [],
   "source": [
    "features = [\n",
    "    \"hum\",\n",
    "    \"pres\",\n",
    "    \"rain_1h\",\n",
    "    \"wind_speed\",\n",
    "    \"wind_deg\",\n",
    "    \"clouds_all\",\n",
    "    \"max_temp\",\n",
    "    \"min_temp\",\n",
    "    \"ave_temp\",\n",
    "]\n",
    "target = \"is_rain\""
   ]
  },
  {
   "cell_type": "code",
   "execution_count": 6,
   "id": "a7c4d186-b5c9-4876-b639-4b3844d6b03b",
   "metadata": {},
   "outputs": [
    {
     "data": {
      "image/png": "[encoded data removed]",
      "text/plain": [
       "<Figure size 640x480 with 1 Axes>"
      ]
     },
     "metadata": {},
     "output_type": "display_data"
    }
   ],
   "source": [
    "labels = [\"Rain\", \"No Rain\"]\n",
    "\n",
    "rain_or_not = df[\"is_rain\"].value_counts().tolist()\n",
    "values = [rain_or_not[0], rain_or_not[1]]\n",
    "\n",
    "plt.pie(df[\"is_rain\"].value_counts(), labels=labels, autopct=\"%1.1f%%\")\n",
    "plt.title(\"Proportion of data with Rain\")\n",
    "plt.show()"
   ]
  },
  {
   "cell_type": "markdown",
   "id": "6c30b99d-cfae-49fc-9a8e-9f2f1e8cca0e",
   "metadata": {},
   "source": [
    "We can already see that the dataset is imbalanced with only 2 percent of rain data. Using accuracy score as a metric with imbalanced datasets will be usually high and misleading. We use different techniques and metrics below better suited for this dataset.\n",
    "\n",
    "First we split the dataset into train and test."
   ]
  },
  {
   "cell_type": "code",
   "execution_count": 7,
   "id": "e07f7ab1-c133-4e59-b1b2-8451e1671efa",
   "metadata": {},
   "outputs": [
    {
     "data": {
      "text/plain": [
       "((1160, 9), (498, 9))"
      ]
     },
     "execution_count": 7,
     "metadata": {},
     "output_type": "execute_result"
    }
   ],
   "source": [
    "X = df[features].to_numpy()\n",
    "y = df[target].to_numpy()\n",
    "X_train, X_test, y_train, y_test = train_test_split(\n",
    "    X, y, test_size=0.3, random_state=seed, stratify=y\n",
    ")\n",
    "\n",
    "scaler = StandardScaler()\n",
    "X_train = scaler.fit_transform(X_train)\n",
    "X_test = scaler.transform(X_test)\n",
    "\n",
    "X_train.shape, X_test.shape"
   ]
  },
  {
   "cell_type": "code",
   "execution_count": 8,
   "id": "7c5b8385-e8e6-4b6b-88e2-7785ad608f7c",
   "metadata": {},
   "outputs": [
    {
     "data": {
      "text/plain": [
       "(23, 10)"
      ]
     },
     "execution_count": 8,
     "metadata": {},
     "output_type": "execute_result"
    }
   ],
   "source": [
    "sum(y_train == 1), sum(y_test == 1)"
   ]
  },
  {
   "cell_type": "markdown",
   "id": "a8f85e20-6e11-4324-b81a-7fc6fb6696b1",
   "metadata": {},
   "source": [
    "## Baseline\n",
    "\n",
    "The standard SVC model. Our goal is to optimize for Recall which is the ability of a model to find all the relevant cases within a data set. In most high-risk detection cases, recall is a more important evaluation metric than precision.\n",
    "\n",
    "In the case of predicting rain, we want to avoid false negatives as much as possible. Rains can cost us a lot and thus we want to take appropriate measures to predict them and save lives."
   ]
  },
  {
   "cell_type": "code",
   "execution_count": 9,
   "id": "65148edd-31e3-48b5-9521-83736fc060d9",
   "metadata": {},
   "outputs": [],
   "source": [
    "model_name = 'svc'\n",
    "base_model = SVC(random_state=seed, probability=True)\n",
    "ro_model = clone(base_model)\n",
    "ru_model = clone(base_model)\n",
    "smote_tomek_model = clone(base_model)\n",
    "balanced_model = SVC(random_state=seed, class_weight='balanced', probability=True)"
   ]
  },
  {
   "cell_type": "code",
   "execution_count": 10,
   "id": "c1e5959e-7e5b-4a36-afab-8a870bd7cb80",
   "metadata": {},
   "outputs": [
    {
     "name": "stdout",
     "output_type": "stream",
     "text": [
      "Cross Validation Recall scores are: [0.   0.75 0.4  0.6  0.4 ]\n",
      "Average Cross Validation Recall score: 0.43\n"
     ]
    }
   ],
   "source": [
    "# We are going to ensure that we have the same splits of the data every time.\n",
    "kf = StratifiedKFold(n_splits=5, shuffle=False)\n",
    "score = cross_val_score(base_model, X_train, y_train, cv=kf, scoring=\"recall\")\n",
    "print(\"Cross Validation Recall scores are: {}\".format(score))\n",
    "print(\"Average Cross Validation Recall score: {}\".format(score.mean()))"
   ]
  },
  {
   "cell_type": "markdown",
   "id": "9e6c0bbd-a451-4f9f-9820-ce6331eee48d",
   "metadata": {},
   "source": [
    "### Hyperparameter Tuning Using GridSearchCV"
   ]
  },
  {
   "cell_type": "code",
   "execution_count": 11,
   "id": "e34e8f19-8d97-4233-a4b0-344d4e718fa4",
   "metadata": {},
   "outputs": [
    {
     "name": "stdout",
     "output_type": "stream",
     "text": [
      "Best parameters: {'C': 0.75, 'degree': 2, 'kernel': 'sigmoid', 'random_state': 42}\n",
      "Best score: 0.66\n"
     ]
    }
   ],
   "source": [
    "params = {\n",
    "    \"degree\": [2, 4, 6, 8],\n",
    "    \"C\": np.linspace(0.5, 4.0, 15),\n",
    "    \"kernel\": [\"rbf\", \"poly\", \"linear\", \"sigmoid\"],\n",
    "    \"random_state\": [seed],\n",
    "}\n",
    "\n",
    "grid = GridSearchCV(base_model, param_grid=params, cv=kf, scoring=\"recall\").fit(\n",
    "    X_train, y_train\n",
    ")\n",
    "\n",
    "print(\"Best parameters:\", grid.best_params_)\n",
    "print(\"Best score:\", grid.best_score_)"
   ]
  },
  {
   "cell_type": "code",
   "execution_count": 12,
   "id": "7eb1fcc9-d2cf-4550-84e6-cfe899f6ff2a",
   "metadata": {},
   "outputs": [
    {
     "name": "stdout",
     "output_type": "stream",
     "text": [
      "[[487   1]\n",
      " [  5   5]]\n"
     ]
    }
   ],
   "source": [
    "y_pred = grid.predict(X_test)\n",
    "\n",
    "cm = confusion_matrix(y_test, y_pred)\n",
    "\n",
    "baseline_Recall = recall_score(y_test, y_pred)\n",
    "baseline_Precision = precision_score(y_test, y_pred)\n",
    "baseline_f1 = f1_score(y_test, y_pred)\n",
    "baseline_accuracy = accuracy_score(y_test, y_pred)\n",
    "\n",
    "print(cm)"
   ]
  },
  {
   "cell_type": "code",
   "execution_count": 13,
   "id": "85b80d95-7681-4ae2-954b-bae39013f93d",
   "metadata": {},
   "outputs": [
    {
     "data": {
      "text/html": [
       "<div>\n",
       "<style scoped>\n",
       "    .dataframe tbody tr th:only-of-type {\n",
       "        vertical-align: middle;\n",
       "    }\n",
       "\n",
       "    .dataframe tbody tr th {\n",
       "        vertical-align: top;\n",
       "    }\n",
       "\n",
       "    .dataframe thead th {\n",
       "        text-align: right;\n",
       "    }\n",
       "</style>\n",
       "<table border=\"1\" class=\"dataframe\">\n",
       "  <thead>\n",
       "    <tr style=\"text-align: right;\">\n",
       "      <th></th>\n",
       "      <th>svc with</th>\n",
       "      <th>Recall</th>\n",
       "      <th>Precision</th>\n",
       "      <th>F1 Score</th>\n",
       "      <th>Accuracy</th>\n",
       "    </tr>\n",
       "  </thead>\n",
       "  <tbody>\n",
       "    <tr>\n",
       "      <th>0</th>\n",
       "      <td>Baseline</td>\n",
       "      <td>0.5</td>\n",
       "      <td>0.833333</td>\n",
       "      <td>0.625</td>\n",
       "      <td>0.987952</td>\n",
       "    </tr>\n",
       "  </tbody>\n",
       "</table>\n",
       "</div>"
      ],
      "text/plain": [
       "   svc with  Recall  Precision  F1 Score  Accuracy\n",
       "0  Baseline     0.5   0.833333     0.625  0.987952"
      ]
     },
     "execution_count": 13,
     "metadata": {},
     "output_type": "execute_result"
    }
   ],
   "source": [
    "ndf = [(baseline_Recall, baseline_Precision, baseline_f1, baseline_accuracy)]\n",
    "\n",
    "baseline_score = pd.DataFrame(\n",
    "    data=ndf, columns=[\"Recall\", \"Precision\", \"F1 Score\", \"Accuracy\"]\n",
    ")\n",
    "baseline_score.insert(0, f\"{model_name} with\", \"Baseline\")\n",
    "baseline_score"
   ]
  },
  {
   "cell_type": "markdown",
   "id": "0e98f2a6-83e9-4268-82b6-7ff50d2b46ed",
   "metadata": {},
   "source": [
    "The result Recall score for a test set is 50%. We will improve this score in below parts of the notebook."
   ]
  },
  {
   "cell_type": "markdown",
   "id": "8d012aa8-9d36-4c7b-9460-7d75f0a07c49",
   "metadata": {},
   "source": [
    "## Random oversampling\n",
    "\n",
    "Randomly duplicate examples in the minority class. Importantly, change to the class distribution should be only applied to the training dataset."
   ]
  },
  {
   "cell_type": "code",
   "execution_count": 14,
   "id": "5d703616-17f4-4688-9d2b-d18ed0038ec1",
   "metadata": {},
   "outputs": [
    {
     "name": "stdout",
     "output_type": "stream",
     "text": [
      "Cross Validation Recall Scores are: [0.25 1.   1.   0.6  0.8 ]\n",
      "Average Cross Validation Recall score: 0.7300000000000001\n"
     ]
    }
   ],
   "source": [
    "random_overs_pipeline = make_pipeline(RandomOverSampler(random_state=42), ro_model)\n",
    "score2 = cross_val_score(random_overs_pipeline, X_train, y_train, scoring='recall', cv=kf)\n",
    "print(\"Cross Validation Recall Scores are: {}\".format(score2))\n",
    "print(\"Average Cross Validation Recall score: {}\".format(score2.mean()))"
   ]
  },
  {
   "cell_type": "code",
   "execution_count": 15,
   "id": "b525649e-0968-45a7-ac03-b4f3a291e60d",
   "metadata": {},
   "outputs": [
    {
     "name": "stderr",
     "output_type": "stream",
     "text": [
      "/home/gopald/Documents/jetix/lib/python3.10/site-packages/numpy/ma/core.py:2820: RuntimeWarning: invalid value encountered in cast\n",
      "  _data = np.array(data, dtype=dtype, copy=copy,\n"
     ]
    },
    {
     "name": "stdout",
     "output_type": "stream",
     "text": [
      "Best parameters: {'svc__C': 0.5, 'svc__degree': 2, 'svc__kernel': 'sigmoid', 'svc__random_state': 42}\n",
      "Best score: 0.95\n"
     ]
    }
   ],
   "source": [
    "new_params = {f'{model_name}__' + key: params[key] for key in params}\n",
    "grid_over = GridSearchCV(random_overs_pipeline, param_grid=new_params, cv=kf, scoring='recall',\n",
    "                        return_train_score=True)\n",
    "grid_over.fit(X_train, y_train)\n",
    "\n",
    "print('Best parameters:', grid_over.best_params_)\n",
    "print('Best score:', grid_over.best_score_)"
   ]
  },
  {
   "cell_type": "code",
   "execution_count": 16,
   "id": "ad0fbff3-bfd5-41ae-90a4-8fbcf95a626f",
   "metadata": {},
   "outputs": [
    {
     "name": "stdout",
     "output_type": "stream",
     "text": [
      "[[476  12]\n",
      " [  0  10]]\n"
     ]
    }
   ],
   "source": [
    "y_pred = grid_over.predict(X_test)\n",
    "\n",
    "cm = confusion_matrix(y_test, y_pred)\n",
    "\n",
    "over_Recall = recall_score(y_test, y_pred)\n",
    "over_Precision = precision_score(y_test, y_pred)\n",
    "over_f1 = f1_score(y_test, y_pred)\n",
    "over_accuracy = accuracy_score(y_test, y_pred)\n",
    "\n",
    "print(cm)"
   ]
  },
  {
   "cell_type": "code",
   "execution_count": 17,
   "id": "71a16a66-34b3-46fa-959a-52049a3a2afc",
   "metadata": {},
   "outputs": [
    {
     "data": {
      "text/html": [
       "<div>\n",
       "<style scoped>\n",
       "    .dataframe tbody tr th:only-of-type {\n",
       "        vertical-align: middle;\n",
       "    }\n",
       "\n",
       "    .dataframe tbody tr th {\n",
       "        vertical-align: top;\n",
       "    }\n",
       "\n",
       "    .dataframe thead th {\n",
       "        text-align: right;\n",
       "    }\n",
       "</style>\n",
       "<table border=\"1\" class=\"dataframe\">\n",
       "  <thead>\n",
       "    <tr style=\"text-align: right;\">\n",
       "      <th></th>\n",
       "      <th>svc with</th>\n",
       "      <th>Recall</th>\n",
       "      <th>Precision</th>\n",
       "      <th>F1 Score</th>\n",
       "      <th>Accuracy</th>\n",
       "    </tr>\n",
       "  </thead>\n",
       "  <tbody>\n",
       "    <tr>\n",
       "      <th>0</th>\n",
       "      <td>Random Oversampling</td>\n",
       "      <td>1.0</td>\n",
       "      <td>0.454545</td>\n",
       "      <td>0.625</td>\n",
       "      <td>0.975904</td>\n",
       "    </tr>\n",
       "  </tbody>\n",
       "</table>\n",
       "</div>"
      ],
      "text/plain": [
       "              svc with  Recall  Precision  F1 Score  Accuracy\n",
       "0  Random Oversampling     1.0   0.454545     0.625  0.975904"
      ]
     },
     "execution_count": 17,
     "metadata": {},
     "output_type": "execute_result"
    }
   ],
   "source": [
    "ndf = [(over_Recall, over_Precision, over_f1, over_accuracy)]\n",
    "\n",
    "over_score = pd.DataFrame(data = ndf, columns=['Recall','Precision','F1 Score', 'Accuracy'])\n",
    "over_score.insert(0, f'{model_name} with', 'Random Oversampling')\n",
    "over_score"
   ]
  },
  {
   "cell_type": "markdown",
   "id": "63f12486-2043-4449-a0b6-b65f1aae164d",
   "metadata": {},
   "source": [
    "## Smote Tomek\n",
    "\n",
    "SMOTE (Synthetic Minority Oversampling Technique) synthesize elements for the minority class while Tomek Links is an under-sampling technique. It can be used to find desired samples of data from the majority class that is having the lowest Euclidean distance with the minority class data and then remove it.\n",
    "\n",
    "A combination of over-sampling the minority (abnormal) class and under-sampling the majority (normal) class can achieve better classifier performance than only under-sampling the majority class. "
   ]
  },
  {
   "cell_type": "code",
   "execution_count": 18,
   "id": "2e05f07f-82f5-4220-aa42-d22f5aa91862",
   "metadata": {},
   "outputs": [
    {
     "name": "stdout",
     "output_type": "stream",
     "text": [
      "Cross Validation Recall scores are: [0.25 1.   1.   0.6  0.8 ]\n",
      "Average Cross Validation Recall score: 0.7300000000000001\n"
     ]
    }
   ],
   "source": [
    "SMOTETomek_pipeline = make_pipeline(\n",
    "    SMOTETomek(tomek=TomekLinks(sampling_strategy=\"majority\")),\n",
    "    smote_tomek_model,\n",
    ")\n",
    "score = cross_val_score(SMOTETomek_pipeline, X_train, y_train, cv=kf, scoring=\"recall\")\n",
    "print(\"Cross Validation Recall scores are: {}\".format(score))\n",
    "print(\"Average Cross Validation Recall score: {}\".format(score.mean()))"
   ]
  },
  {
   "cell_type": "code",
   "execution_count": 19,
   "id": "3e1a4980-21a5-44da-9053-1ba758b4ba48",
   "metadata": {},
   "outputs": [
    {
     "name": "stdout",
     "output_type": "stream",
     "text": [
      "Best parameters: {'svc__C': 1.0, 'svc__degree': 6, 'svc__kernel': 'sigmoid', 'svc__random_state': 42}\n",
      "Best score: 0.96\n"
     ]
    },
    {
     "name": "stderr",
     "output_type": "stream",
     "text": [
      "/home/gopald/Documents/jetix/lib/python3.10/site-packages/numpy/ma/core.py:2820: RuntimeWarning: invalid value encountered in cast\n",
      "  _data = np.array(data, dtype=dtype, copy=copy,\n"
     ]
    }
   ],
   "source": [
    "new_params = {f\"{model_name}__\" + key: params[key] for key in params}\n",
    "SMOTETomek_grid = GridSearchCV(\n",
    "    SMOTETomek_pipeline, param_grid=new_params, cv=kf, scoring=\"recall\"\n",
    ").fit(X_train, y_train)\n",
    "print(\"Best parameters:\", SMOTETomek_grid.best_params_)\n",
    "print(\"Best score:\", SMOTETomek_grid.best_score_)"
   ]
  },
  {
   "cell_type": "code",
   "execution_count": 20,
   "id": "a251d288-a7e7-4376-8ca4-4d9672272fdd",
   "metadata": {},
   "outputs": [
    {
     "name": "stdout",
     "output_type": "stream",
     "text": [
      "[[466  22]\n",
      " [  1   9]]\n"
     ]
    }
   ],
   "source": [
    "y_pred = SMOTETomek_grid.predict(X_test)\n",
    "\n",
    "cm = confusion_matrix(y_test, y_pred)\n",
    "\n",
    "SMOTETomek_Recall = recall_score(y_test, y_pred)\n",
    "SMOTETomek_Precision = precision_score(y_test, y_pred)\n",
    "SMOTETomek_f1 = f1_score(y_test, y_pred)\n",
    "SMOTETomek_accuracy = accuracy_score(y_test, y_pred)\n",
    "\n",
    "print(cm)"
   ]
  },
  {
   "cell_type": "code",
   "execution_count": 21,
   "id": "f983a5da-ff30-4ac1-b27e-c5193da53a38",
   "metadata": {},
   "outputs": [
    {
     "data": {
      "text/html": [
       "<div>\n",
       "<style scoped>\n",
       "    .dataframe tbody tr th:only-of-type {\n",
       "        vertical-align: middle;\n",
       "    }\n",
       "\n",
       "    .dataframe tbody tr th {\n",
       "        vertical-align: top;\n",
       "    }\n",
       "\n",
       "    .dataframe thead th {\n",
       "        text-align: right;\n",
       "    }\n",
       "</style>\n",
       "<table border=\"1\" class=\"dataframe\">\n",
       "  <thead>\n",
       "    <tr style=\"text-align: right;\">\n",
       "      <th></th>\n",
       "      <th>svc with</th>\n",
       "      <th>Recall</th>\n",
       "      <th>Precision</th>\n",
       "      <th>F1 Score</th>\n",
       "      <th>Accuracy</th>\n",
       "    </tr>\n",
       "  </thead>\n",
       "  <tbody>\n",
       "    <tr>\n",
       "      <th>0</th>\n",
       "      <td>SMOTE + Tomek</td>\n",
       "      <td>0.9</td>\n",
       "      <td>0.290323</td>\n",
       "      <td>0.439024</td>\n",
       "      <td>0.953815</td>\n",
       "    </tr>\n",
       "  </tbody>\n",
       "</table>\n",
       "</div>"
      ],
      "text/plain": [
       "        svc with  Recall  Precision  F1 Score  Accuracy\n",
       "0  SMOTE + Tomek     0.9   0.290323  0.439024  0.953815"
      ]
     },
     "execution_count": 21,
     "metadata": {},
     "output_type": "execute_result"
    }
   ],
   "source": [
    "ndf = [\n",
    "    (\n",
    "        SMOTETomek_Recall,\n",
    "        SMOTETomek_Precision,\n",
    "        SMOTETomek_f1,\n",
    "        SMOTETomek_accuracy,\n",
    "    )\n",
    "]\n",
    "\n",
    "SMOTETomek_score = pd.DataFrame(\n",
    "    data=ndf, columns=[\"Recall\", \"Precision\", \"F1 Score\", \"Accuracy\"]\n",
    ")\n",
    "SMOTETomek_score.insert(0, f'{model_name} with', \"SMOTE + Tomek\")\n",
    "SMOTETomek_score"
   ]
  },
  {
   "cell_type": "markdown",
   "id": "b559d229-b7a5-4c30-bc62-4d04eac18a02",
   "metadata": {},
   "source": [
    "## Class weighted model\n",
    "\n",
    "Machine learning models provide a parameter called `class_weights` with which we can specify a higher weight for the minority class using a dictionary.\n",
    "\n",
    "Without weights set, the model treats each point as equally important. Weights scale the loss function. As the model trains on each point, the error will be multiplied by the weight of the point. The estimator will try to minimize error on the more heavily weighted classes, because they will have a greater effect on error, sending a stronger signal."
   ]
  },
  {
   "cell_type": "code",
   "execution_count": 22,
   "id": "6d3443f9-582c-455d-94d3-a49eb50a5795",
   "metadata": {},
   "outputs": [
    {
     "name": "stdout",
     "output_type": "stream",
     "text": [
      "Cross Validation Recall scores are: [0.25 0.75 1.   0.6  0.8 ]\n",
      "Average Cross Validation Recall score: 0.68\n"
     ]
    }
   ],
   "source": [
    "score5 = cross_val_score(balanced_model, X_train, y_train, cv=kf, scoring=\"recall\")\n",
    "print(\"Cross Validation Recall scores are: {}\".format(score5))\n",
    "print(\"Average Cross Validation Recall score: {}\".format(score5.mean()))"
   ]
  },
  {
   "cell_type": "code",
   "execution_count": 23,
   "id": "4412196d-76bf-43f0-a1c9-04c79dcef12a",
   "metadata": {},
   "outputs": [
    {
     "name": "stdout",
     "output_type": "stream",
     "text": [
      "[[439  49]\n",
      " [  0  10]]\n"
     ]
    }
   ],
   "source": [
    "grid_b = GridSearchCV(balanced_model, param_grid=params, cv=kf, scoring=\"recall\").fit(\n",
    "    X_train, y_train\n",
    ")\n",
    "\n",
    "y_pred = grid_b.predict(X_test)\n",
    "cm = confusion_matrix(y_test, y_pred)\n",
    "\n",
    "grid_b_Recall = recall_score(y_test, y_pred)\n",
    "grid_b_Precision = precision_score(y_test, y_pred)\n",
    "grid_b_f1 = f1_score(y_test, y_pred)\n",
    "grid_b_accuracy = accuracy_score(y_test, y_pred)\n",
    "\n",
    "print(cm)"
   ]
  },
  {
   "cell_type": "code",
   "execution_count": 24,
   "id": "88ce793f-eb77-4896-b811-9cf3966234ff",
   "metadata": {},
   "outputs": [
    {
     "data": {
      "text/html": [
       "<div>\n",
       "<style scoped>\n",
       "    .dataframe tbody tr th:only-of-type {\n",
       "        vertical-align: middle;\n",
       "    }\n",
       "\n",
       "    .dataframe tbody tr th {\n",
       "        vertical-align: top;\n",
       "    }\n",
       "\n",
       "    .dataframe thead th {\n",
       "        text-align: right;\n",
       "    }\n",
       "</style>\n",
       "<table border=\"1\" class=\"dataframe\">\n",
       "  <thead>\n",
       "    <tr style=\"text-align: right;\">\n",
       "      <th></th>\n",
       "      <th>svc with</th>\n",
       "      <th>Recall</th>\n",
       "      <th>Precision</th>\n",
       "      <th>F1 Score</th>\n",
       "      <th>Accuracy</th>\n",
       "    </tr>\n",
       "  </thead>\n",
       "  <tbody>\n",
       "    <tr>\n",
       "      <th>0</th>\n",
       "      <td>Class weights</td>\n",
       "      <td>1.0</td>\n",
       "      <td>0.169492</td>\n",
       "      <td>0.289855</td>\n",
       "      <td>0.901606</td>\n",
       "    </tr>\n",
       "  </tbody>\n",
       "</table>\n",
       "</div>"
      ],
      "text/plain": [
       "        svc with  Recall  Precision  F1 Score  Accuracy\n",
       "0  Class weights     1.0   0.169492  0.289855  0.901606"
      ]
     },
     "execution_count": 24,
     "metadata": {},
     "output_type": "execute_result"
    }
   ],
   "source": [
    "ndf = [(grid_b_Recall, grid_b_Precision, grid_b_f1, grid_b_accuracy)]\n",
    "\n",
    "grid_b_score = pd.DataFrame(\n",
    "    data=ndf, columns=[\"Recall\", \"Precision\", \"F1 Score\", \"Accuracy\"]\n",
    ")\n",
    "grid_b_score.insert(0, f'{model_name} with', \"Class weights\")\n",
    "grid_b_score"
   ]
  },
  {
   "cell_type": "code",
   "execution_count": 25,
   "id": "fde07f22-c4b8-420a-b406-b7d6dee09f15",
   "metadata": {},
   "outputs": [
    {
     "data": {
      "text/html": [
       "<div>\n",
       "<style scoped>\n",
       "    .dataframe tbody tr th:only-of-type {\n",
       "        vertical-align: middle;\n",
       "    }\n",
       "\n",
       "    .dataframe tbody tr th {\n",
       "        vertical-align: top;\n",
       "    }\n",
       "\n",
       "    .dataframe thead th {\n",
       "        text-align: right;\n",
       "    }\n",
       "</style>\n",
       "<table border=\"1\" class=\"dataframe\">\n",
       "  <thead>\n",
       "    <tr style=\"text-align: right;\">\n",
       "      <th></th>\n",
       "      <th>svc with</th>\n",
       "      <th>Recall</th>\n",
       "      <th>Precision</th>\n",
       "      <th>F1 Score</th>\n",
       "      <th>Accuracy</th>\n",
       "    </tr>\n",
       "  </thead>\n",
       "  <tbody>\n",
       "    <tr>\n",
       "      <th>1</th>\n",
       "      <td>Random Oversampling</td>\n",
       "      <td>1.0</td>\n",
       "      <td>0.454545</td>\n",
       "      <td>0.625000</td>\n",
       "      <td>0.975904</td>\n",
       "    </tr>\n",
       "    <tr>\n",
       "      <th>3</th>\n",
       "      <td>Class weights</td>\n",
       "      <td>1.0</td>\n",
       "      <td>0.169492</td>\n",
       "      <td>0.289855</td>\n",
       "      <td>0.901606</td>\n",
       "    </tr>\n",
       "    <tr>\n",
       "      <th>2</th>\n",
       "      <td>SMOTE + Tomek</td>\n",
       "      <td>0.9</td>\n",
       "      <td>0.290323</td>\n",
       "      <td>0.439024</td>\n",
       "      <td>0.953815</td>\n",
       "    </tr>\n",
       "    <tr>\n",
       "      <th>0</th>\n",
       "      <td>Baseline</td>\n",
       "      <td>0.5</td>\n",
       "      <td>0.833333</td>\n",
       "      <td>0.625000</td>\n",
       "      <td>0.987952</td>\n",
       "    </tr>\n",
       "  </tbody>\n",
       "</table>\n",
       "</div>"
      ],
      "text/plain": [
       "              svc with  Recall  Precision  F1 Score  Accuracy\n",
       "1  Random Oversampling     1.0   0.454545  0.625000  0.975904\n",
       "3        Class weights     1.0   0.169492  0.289855  0.901606\n",
       "2        SMOTE + Tomek     0.9   0.290323  0.439024  0.953815\n",
       "0             Baseline     0.5   0.833333  0.625000  0.987952"
      ]
     },
     "execution_count": 25,
     "metadata": {},
     "output_type": "execute_result"
    }
   ],
   "source": [
    "predictions = pd.concat(\n",
    "    [baseline_score, over_score, SMOTETomek_score, grid_b_score], ignore_index=True, sort=False\n",
    ")\n",
    "predictions.sort_values(by=[\"Recall\"], ascending=False)"
   ]
  },
  {
   "cell_type": "code",
   "execution_count": 26,
   "id": "f97f1e24-a81b-41ae-808e-d362154c0651",
   "metadata": {},
   "outputs": [],
   "source": [
    "predictions.to_csv('results/svc.csv')"
   ]
  },
  {
   "cell_type": "markdown",
   "id": "a5757e67-e2e6-48b7-8be1-e8099a58b871",
   "metadata": {},
   "source": [
    "## Summary\n",
    "\n",
    "- We observe that the random oversampling model has the highest recall score while costing on precision.\n",
    "- The baseline model has a 50% recall score but has the highest precision.\n",
    "\n",
    "Considering the trade-off between recall and precision, random oversampling model is the best. Below we see the AUC score of the random oversampling model."
   ]
  },
  {
   "cell_type": "markdown",
   "id": "cabff48d-61c1-4a58-bad0-0ee51e484b5c",
   "metadata": {},
   "source": [
    "## ROC-AUC curve"
   ]
  },
  {
   "cell_type": "code",
   "execution_count": 27,
   "id": "c749a182-eb79-4c50-9b02-06b9418901c2",
   "metadata": {},
   "outputs": [
    {
     "name": "stdout",
     "output_type": "stream",
     "text": [
      "AUC-ROC Curve for SVC with Class weights: 0.9877\n"
     ]
    }
   ],
   "source": [
    "y_pred = grid_over.predict(X_test)\n",
    "ROCAUCscore = roc_auc_score(y_test, y_pred)\n",
    "print(f\"AUC-ROC Curve for SVC with Class weights: {ROCAUCscore:.4f}\")"
   ]
  },
  {
   "cell_type": "code",
   "execution_count": 28,
   "id": "4fb67e90-7c72-47a2-8a32-60d709d17fa9",
   "metadata": {},
   "outputs": [
    {
     "name": "stderr",
     "output_type": "stream",
     "text": [
      "/home/gopald/Documents/jetix/lib/python3.10/site-packages/sklearn/metrics/_plot/roc_curve.py:171: UserWarning: No artists with labels found to put in legend.  Note that artists whose label start with an underscore are ignored when legend() is called with no argument.\n",
      "  self.ax_.legend(loc=\"lower right\")\n"
     ]
    },
    {
     "data": {
      "image/png": "[encoded data removed]",
      "text/plain": [
       "<Figure size 500x500 with 1 Axes>"
      ]
     },
     "metadata": {},
     "output_type": "display_data"
    }
   ],
   "source": [
    "y_proba = grid_over.predict_proba(X_test)\n",
    "\n",
    "def plot_auc_roc_curve(y_test, y_pred):\n",
    "    fpr, tpr, _ = roc_curve(y_test, y_pred)\n",
    "    roc_display = RocCurveDisplay(fpr=fpr, tpr=tpr).plot()\n",
    "    roc_display.figure_.set_size_inches(5, 5)\n",
    "    plt.plot([0, 1], [0, 1], color=\"g\")\n",
    "    \n",
    "\n",
    "plot_auc_roc_curve(y_test, y_proba[:, 1])"
   ]
  },
  {
   "cell_type": "markdown",
   "id": "fa20f261-75bc-4cd3-b6b0-8467fea2f6e2",
   "metadata": {},
   "source": [
    "We see that random oversampling model has a 98.77% AUC score which means there is around 98% chance that the model is able to differentiate between rain and no-rain based on other features."
   ]
  },
  {
   "cell_type": "code",
   "execution_count": 29,
   "id": "e6128887-3877-4081-885a-bb521d1a07ad",
   "metadata": {},
   "outputs": [
    {
     "data": {
      "image/png": "[encoded data removed]",
      "text/plain": [
       "<Figure size 640x480 with 1 Axes>"
      ]
     },
     "metadata": {},
     "output_type": "display_data"
    }
   ],
   "source": [
    "display = PrecisionRecallDisplay.from_estimator(\n",
    "    grid_over, X_test, y_test, name=\"Average precision\")\n",
    "_ = display.ax_.set_title(\"Random Forest with Class weights\")"
   ]
  },
  {
   "cell_type": "markdown",
   "id": "e40ad2d7-8534-4987-abda-c73ee8b71676",
   "metadata": {
    "editable": true,
    "slideshow": {
     "slide_type": ""
    },
    "tags": []
   },
   "source": [
    "We can clearly see the point where we have to start trading a lot of Precision for better Recall score!"
   ]
  }
 ],
 "metadata": {
  "kernelspec": {
   "display_name": "Python (jetix)",
   "language": "python",
   "name": "jetix"
  },
  "language_info": {
   "codemirror_mode": {
    "name": "ipython",
    "version": 3
   },
   "file_extension": ".py",
   "mimetype": "text/x-python",
   "name": "python",
   "nbconvert_exporter": "python",
   "pygments_lexer": "ipython3",
   "version": "3.10.0"
  }
 },
 "nbformat": 4,
 "nbformat_minor": 5
}
