{
 "cells": [
  {
   "cell_type": "markdown",
   "id": "6efb9944-84e9-47f1-960e-9634d9d96a8a",
   "metadata": {
    "editable": true,
    "slideshow": {
     "slide_type": ""
    },
    "tags": []
   },
   "source": [
    "# QBoost with D-Wave's Annealer\n",
    "\n",
    "QBoost was implemented using D-Wave’s real quantum annealer, Advantage_system4.1 was used. To run this notebook, one need to create account on D-Wave's [Leap](https://cloud.dwavesys.com/leap) service and paste the API token below."
   ]
  },
  {
   "cell_type": "code",
   "execution_count": 1,
   "id": "ccac225b-ec6c-454e-b9a4-52be87e4b2b9",
   "metadata": {},
   "outputs": [],
   "source": [
    "%load_ext autoreload\n",
    "%autoreload 2"
   ]
  },
  {
   "cell_type": "code",
   "execution_count": 12,
   "id": "1534aa4b-9cc0-4569-a518-80bb0b355c9a",
   "metadata": {},
   "outputs": [],
   "source": [
    "import os\n",
    "os.environ['DWAVE_API_TOKEN'] = 'TOKEN'"
   ]
  },
  {
   "cell_type": "code",
   "execution_count": 13,
   "id": "eb1da546-e5f2-4326-96f8-a7d0a24a53da",
   "metadata": {},
   "outputs": [
    {
     "data": {
      "text/plain": [
       "[CpuDevice(id=0)]"
      ]
     },
     "execution_count": 13,
     "metadata": {},
     "output_type": "execute_result"
    }
   ],
   "source": [
    "import matplotlib.pyplot as plt\n",
    "import numpy as np\n",
    "import pandas as pd\n",
    "from imblearn.combine import SMOTETomek\n",
    "from imblearn.pipeline import make_pipeline\n",
    "from sklearn.metrics import (\n",
    "    PrecisionRecallDisplay,\n",
    "    accuracy_score,\n",
    "    classification_report,\n",
    "    confusion_matrix,\n",
    "    f1_score,\n",
    "    precision_recall_curve,\n",
    "    precision_score,\n",
    "    r2_score,\n",
    "    recall_score,\n",
    "    roc_auc_score,\n",
    ")\n",
    "from sklearn.model_selection import StratifiedKFold, cross_val_score, train_test_split\n",
    "from sklearn.preprocessing import StandardScaler, MinMaxScaler\n",
    "from sklearn.decomposition import PCA\n",
    "from sklearn.svm import SVC\n",
    "from imblearn.over_sampling import RandomOverSampler\n",
    "from imblearn.under_sampling import TomekLinks\n",
    "from sklearn.model_selection import GridSearchCV\n",
    "from sklearn.base import clone\n",
    "from sklearn.decomposition import PCA\n",
    "from sklearn.metrics import RocCurveDisplay, roc_curve\n",
    "import seaborn as sns\n",
    "from sklearn.manifold import TSNE\n",
    "from jax_utils import square_kernel_matrix_jax, kernel_matrix_jax, target_alignment_jax\n",
    "from dwave.samplers import SimulatedAnnealingSampler\n",
    "from sklearn.tree import DecisionTreeClassifier\n",
    "from sklearn.ensemble import AdaBoostClassifier, RandomForestClassifier\n",
    "from qboost import QBoostClassifier\n",
    "import pennylane.numpy as pnp\n",
    "import pennylane as qml\n",
    "\n",
    "from dwave.system.samplers import DWaveSampler\n",
    "from dwave.system.composites import EmbeddingComposite\n",
    "\n",
    "import jax\n",
    "import jax.numpy as jnp\n",
    "import optax\n",
    "\n",
    "jax.config.update(\"jax_enable_x64\", True)\n",
    "\n",
    "seed = 42\n",
    "np.random.seed(42)\n",
    "\n",
    "np.random.seed(seed)\n",
    "pnp.random.seed(seed)\n",
    "\n",
    "jax.devices()\n"
   ]
  },
  {
   "cell_type": "code",
   "execution_count": 14,
   "id": "662ca216-b9bc-4763-84fd-394f10fc8743",
   "metadata": {},
   "outputs": [
    {
     "data": {
      "text/plain": [
       "(1658, 12)"
      ]
     },
     "execution_count": 14,
     "metadata": {},
     "output_type": "execute_result"
    }
   ],
   "source": [
    "df = pd.read_csv(\"weather/weather-010824-061024.csv\")\n",
    "df.shape"
   ]
  },
  {
   "cell_type": "code",
   "execution_count": 15,
   "id": "ea7e6463-9ed4-4152-9b60-3ef133d65c48",
   "metadata": {},
   "outputs": [],
   "source": [
    "def weather_map(x):\n",
    "    val = int(x / 100)\n",
    "    if val == 5:\n",
    "        return 1\n",
    "    return 0\n",
    "\n",
    "\n",
    "df[\"is_rain\"] = df.cod_weather.apply(weather_map)"
   ]
  },
  {
   "cell_type": "code",
   "execution_count": 16,
   "id": "aa9affce-4cc9-4c3e-bc1f-bd563d70c4fe",
   "metadata": {},
   "outputs": [],
   "source": [
    "features = [\n",
    "    \"hum\",\n",
    "    \"pres\",\n",
    "    \"rain_1h\",\n",
    "    # \"wind_speed\",\n",
    "    # \"wind_deg\",\n",
    "    # \"clouds_all\",\n",
    "    # \"max_temp\",\n",
    "    # \"min_temp\",\n",
    "    # \"ave_temp\",\n",
    "]\n",
    "target = \"is_rain\""
   ]
  },
  {
   "cell_type": "markdown",
   "id": "d19868bd-2294-4e47-bac0-ef4311efcdf3",
   "metadata": {},
   "source": [
    "We split the saved train data to train and validation datasets. We also change the labels from 0, 1 to -1, 1 because we will be using Pauli-Z observable in the Quantum Circuit whose eigenvalues are -1, 1. Therefore, a 1 means that the stock price is manipulated."
   ]
  },
  {
   "cell_type": "code",
   "execution_count": 17,
   "id": "e07f7ab1-c133-4e59-b1b2-8451e1671efa",
   "metadata": {},
   "outputs": [
    {
     "data": {
      "text/plain": [
       "((1160, 3), (498, 3))"
      ]
     },
     "execution_count": 17,
     "metadata": {},
     "output_type": "execute_result"
    }
   ],
   "source": [
    "X = df[features].to_numpy()\n",
    "y = 2 * df[target].to_numpy() - 1\n",
    "X_train, X_test, y_train, y_test = train_test_split(\n",
    "    X, y, test_size=0.3, random_state=seed, stratify=y\n",
    ")\n",
    "X_train.shape, X_test.shape"
   ]
  },
  {
   "cell_type": "code",
   "execution_count": 18,
   "id": "7c5b8385-e8e6-4b6b-88e2-7785ad608f7c",
   "metadata": {},
   "outputs": [
    {
     "data": {
      "text/plain": [
       "(23, 10)"
      ]
     },
     "execution_count": 18,
     "metadata": {},
     "output_type": "execute_result"
    }
   ],
   "source": [
    "sum(y_train == 1), sum(y_test == 1)"
   ]
  },
  {
   "cell_type": "code",
   "execution_count": 19,
   "id": "5b701550-f3bf-4275-b4f5-757610484bba",
   "metadata": {},
   "outputs": [
    {
     "data": {
      "text/plain": [
       "<Axes: >"
      ]
     },
     "execution_count": 19,
     "metadata": {},
     "output_type": "execute_result"
    },
    {
     "data": {
      "image/png": "[encoded data removed]",
      "text/plain": [
       "<Figure size 640x480 with 2 Axes>"
      ]
     },
     "metadata": {},
     "output_type": "display_data"
    }
   ],
   "source": [
    "sns.heatmap(df[features].corr('spearman'), annot=True, fmt=\".1f\")"
   ]
  },
  {
   "cell_type": "code",
   "execution_count": 20,
   "id": "b94289dc-0da9-49e6-b9b8-094b14a345e6",
   "metadata": {},
   "outputs": [
    {
     "data": {
      "text/plain": [
       "((1160, 3), (498, 3))"
      ]
     },
     "execution_count": 20,
     "metadata": {},
     "output_type": "execute_result"
    }
   ],
   "source": [
    "scaler = StandardScaler()\n",
    "X_train = scaler.fit_transform(X_train)\n",
    "X_test = scaler.transform(X_test)\n",
    "\n",
    "mm_scaler = MinMaxScaler((-1, 1))\n",
    "X_train = mm_scaler.fit_transform(X_train)\n",
    "X_test = mm_scaler.transform(X_test)\n",
    "\n",
    "X_train.shape, X_test.shape"
   ]
  },
  {
   "cell_type": "markdown",
   "id": "a8f85e20-6e11-4324-b81a-7fc6fb6696b1",
   "metadata": {},
   "source": [
    "## Baseline"
   ]
  },
  {
   "cell_type": "code",
   "execution_count": 21,
   "id": "95919a79-dc21-40d1-abba-3c21206edf22",
   "metadata": {},
   "outputs": [],
   "source": [
    "sampler_params = {\n",
    "    'num_reads': 2000\n",
    "}\n",
    "num_weak_classifiers = 50\n",
    "tree_depth = 2\n",
    "lmd = 1.5\n",
    "dwave_sampler = DWaveSampler()\n",
    "emb_sampler = EmbeddingComposite(dwave_sampler)"
   ]
  },
  {
   "cell_type": "code",
   "execution_count": 22,
   "id": "5b204f2f-4f90-4382-abff-8efa43e4aef0",
   "metadata": {},
   "outputs": [
    {
     "name": "stdout",
     "output_type": "stream",
     "text": [
      "BQM info:\n",
      "Num variables: 50\n",
      "Num interactions: 1225\n"
     ]
    }
   ],
   "source": [
    "model_name = 'qboost'\n",
    "base_model = QBoostClassifier(n_estimators=num_weak_classifiers, max_depth=tree_depth)\n",
    "base_model.fit(X_train, y_train, emb_sampler, lmd=lmd, print_bqm_info=True, **sampler_params)"
   ]
  },
  {
   "cell_type": "code",
   "execution_count": 23,
   "id": "11675fb2-59a7-430f-adbf-16556644789d",
   "metadata": {},
   "outputs": [
    {
     "name": "stdout",
     "output_type": "stream",
     "text": [
      "19 1141\n",
      "              precision    recall  f1-score   support\n",
      "\n",
      "          -1       1.00      1.00      1.00      1137\n",
      "           1       1.00      0.83      0.90        23\n",
      "\n",
      "    accuracy                           1.00      1160\n",
      "   macro avg       1.00      0.91      0.95      1160\n",
      "weighted avg       1.00      1.00      1.00      1160\n",
      "\n"
     ]
    }
   ],
   "source": [
    "y_preds = base_model.predict(X_train)\n",
    "print(sum(y_preds == 1), sum(y_preds == -1))\n",
    "print(classification_report(y_train, y_preds))"
   ]
  },
  {
   "cell_type": "code",
   "execution_count": 24,
   "id": "7eb1fcc9-d2cf-4550-84e6-cfe899f6ff2a",
   "metadata": {},
   "outputs": [
    {
     "name": "stdout",
     "output_type": "stream",
     "text": [
      "[[484   4]\n",
      " [  4   6]]\n"
     ]
    }
   ],
   "source": [
    "y_pred = base_model.predict(X_test)\n",
    "\n",
    "cm = confusion_matrix(y_test, y_pred)\n",
    "\n",
    "baseline_Recall = recall_score(y_test, y_pred)\n",
    "baseline_Precision = precision_score(y_test, y_pred)\n",
    "baseline_f1 = f1_score(y_test, y_pred)\n",
    "baseline_accuracy = accuracy_score(y_test, y_pred)\n",
    "\n",
    "print(cm)"
   ]
  },
  {
   "cell_type": "code",
   "execution_count": 25,
   "id": "85b80d95-7681-4ae2-954b-bae39013f93d",
   "metadata": {},
   "outputs": [
    {
     "data": {
      "text/html": [
       "<div>\n",
       "<style scoped>\n",
       "    .dataframe tbody tr th:only-of-type {\n",
       "        vertical-align: middle;\n",
       "    }\n",
       "\n",
       "    .dataframe tbody tr th {\n",
       "        vertical-align: top;\n",
       "    }\n",
       "\n",
       "    .dataframe thead th {\n",
       "        text-align: right;\n",
       "    }\n",
       "</style>\n",
       "<table border=\"1\" class=\"dataframe\">\n",
       "  <thead>\n",
       "    <tr style=\"text-align: right;\">\n",
       "      <th></th>\n",
       "      <th>qboost with</th>\n",
       "      <th>Recall</th>\n",
       "      <th>Precision</th>\n",
       "      <th>F1 Score</th>\n",
       "      <th>Accuracy</th>\n",
       "    </tr>\n",
       "  </thead>\n",
       "  <tbody>\n",
       "    <tr>\n",
       "      <th>0</th>\n",
       "      <td>Baseline</td>\n",
       "      <td>0.6</td>\n",
       "      <td>0.6</td>\n",
       "      <td>0.6</td>\n",
       "      <td>0.983936</td>\n",
       "    </tr>\n",
       "  </tbody>\n",
       "</table>\n",
       "</div>"
      ],
      "text/plain": [
       "  qboost with  Recall  Precision  F1 Score  Accuracy\n",
       "0    Baseline     0.6        0.6       0.6  0.983936"
      ]
     },
     "execution_count": 25,
     "metadata": {},
     "output_type": "execute_result"
    }
   ],
   "source": [
    "ndf = [(baseline_Recall, baseline_Precision, baseline_f1, baseline_accuracy)]\n",
    "\n",
    "baseline_score = pd.DataFrame(\n",
    "    data=ndf, columns=[\"Recall\", \"Precision\", \"F1 Score\", \"Accuracy\"]\n",
    ")\n",
    "baseline_score.insert(0, f\"{model_name} with\", \"Baseline\")\n",
    "baseline_score"
   ]
  },
  {
   "cell_type": "markdown",
   "id": "8d012aa8-9d36-4c7b-9460-7d75f0a07c49",
   "metadata": {},
   "source": [
    "## Random oversampling"
   ]
  },
  {
   "cell_type": "code",
   "execution_count": 26,
   "id": "5d703616-17f4-4688-9d2b-d18ed0038ec1",
   "metadata": {},
   "outputs": [],
   "source": [
    "ro_model = QBoostClassifier(n_estimators=num_weak_classifiers, max_depth=tree_depth)"
   ]
  },
  {
   "cell_type": "code",
   "execution_count": 27,
   "id": "30f15968-e9e4-4238-af81-c11d28eebc83",
   "metadata": {},
   "outputs": [
    {
     "data": {
      "text/plain": [
       "((2274, 3), 1137, 1137)"
      ]
     },
     "execution_count": 27,
     "metadata": {},
     "output_type": "execute_result"
    }
   ],
   "source": [
    "X_over, y_over = RandomOverSampler(random_state=42).fit_resample(X_train, y_train)\n",
    "X_over.shape, sum(y_over == 1), sum(y_over == -1)"
   ]
  },
  {
   "cell_type": "code",
   "execution_count": 28,
   "id": "ad0fbff3-bfd5-41ae-90a4-8fbcf95a626f",
   "metadata": {},
   "outputs": [
    {
     "name": "stdout",
     "output_type": "stream",
     "text": [
      "[[484   4]\n",
      " [  2   8]]\n"
     ]
    }
   ],
   "source": [
    "ro_model.fit(X_over, y_over, emb_sampler, lmd, **sampler_params)\n",
    "y_pred = ro_model.predict(X_test)\n",
    "\n",
    "cm = confusion_matrix(y_test, y_pred)\n",
    "\n",
    "over_Recall = recall_score(y_test, y_pred)\n",
    "over_Precision = precision_score(y_test, y_pred)\n",
    "over_f1 = f1_score(y_test, y_pred)\n",
    "over_accuracy = accuracy_score(y_test, y_pred)\n",
    "\n",
    "print(cm)"
   ]
  },
  {
   "cell_type": "code",
   "execution_count": 29,
   "id": "71a16a66-34b3-46fa-959a-52049a3a2afc",
   "metadata": {},
   "outputs": [
    {
     "data": {
      "text/html": [
       "<div>\n",
       "<style scoped>\n",
       "    .dataframe tbody tr th:only-of-type {\n",
       "        vertical-align: middle;\n",
       "    }\n",
       "\n",
       "    .dataframe tbody tr th {\n",
       "        vertical-align: top;\n",
       "    }\n",
       "\n",
       "    .dataframe thead th {\n",
       "        text-align: right;\n",
       "    }\n",
       "</style>\n",
       "<table border=\"1\" class=\"dataframe\">\n",
       "  <thead>\n",
       "    <tr style=\"text-align: right;\">\n",
       "      <th></th>\n",
       "      <th>qboost with</th>\n",
       "      <th>Recall</th>\n",
       "      <th>Precision</th>\n",
       "      <th>F1 Score</th>\n",
       "      <th>Accuracy</th>\n",
       "    </tr>\n",
       "  </thead>\n",
       "  <tbody>\n",
       "    <tr>\n",
       "      <th>0</th>\n",
       "      <td>Random Oversampling</td>\n",
       "      <td>0.8</td>\n",
       "      <td>0.666667</td>\n",
       "      <td>0.727273</td>\n",
       "      <td>0.987952</td>\n",
       "    </tr>\n",
       "  </tbody>\n",
       "</table>\n",
       "</div>"
      ],
      "text/plain": [
       "           qboost with  Recall  Precision  F1 Score  Accuracy\n",
       "0  Random Oversampling     0.8   0.666667  0.727273  0.987952"
      ]
     },
     "execution_count": 29,
     "metadata": {},
     "output_type": "execute_result"
    }
   ],
   "source": [
    "ndf = [(over_Recall, over_Precision, over_f1, over_accuracy)]\n",
    "\n",
    "over_score = pd.DataFrame(data = ndf, columns=['Recall','Precision','F1 Score', 'Accuracy'])\n",
    "over_score.insert(0, f'{model_name} with', 'Random Oversampling')\n",
    "over_score"
   ]
  },
  {
   "cell_type": "markdown",
   "id": "63f12486-2043-4449-a0b6-b65f1aae164d",
   "metadata": {},
   "source": [
    "## Smote Tomek"
   ]
  },
  {
   "cell_type": "code",
   "execution_count": 30,
   "id": "2e05f07f-82f5-4220-aa42-d22f5aa91862",
   "metadata": {},
   "outputs": [],
   "source": [
    "smote_tomek_model = QBoostClassifier(n_estimators=num_weak_classifiers, max_depth=tree_depth)"
   ]
  },
  {
   "cell_type": "code",
   "execution_count": 31,
   "id": "518d45b2-b9c2-4b1d-b754-8ae920c318fc",
   "metadata": {},
   "outputs": [
    {
     "data": {
      "text/plain": [
       "((2274, 3), 1137, 1137)"
      ]
     },
     "execution_count": 31,
     "metadata": {},
     "output_type": "execute_result"
    }
   ],
   "source": [
    "X_smote, y_smote = SMOTETomek(tomek=TomekLinks(sampling_strategy=\"majority\")).fit_resample(X_train, y_train)\n",
    "X_smote.shape, sum(y_smote == 1), sum(y_smote == -1)"
   ]
  },
  {
   "cell_type": "code",
   "execution_count": 32,
   "id": "a251d288-a7e7-4376-8ca4-4d9672272fdd",
   "metadata": {},
   "outputs": [
    {
     "name": "stdout",
     "output_type": "stream",
     "text": [
      "[[480   8]\n",
      " [  0  10]]\n"
     ]
    }
   ],
   "source": [
    "smote_tomek_model.fit(X_smote, y_smote, emb_sampler, lmd, **sampler_params)\n",
    "y_pred = smote_tomek_model.predict(X_test)\n",
    "\n",
    "cm = confusion_matrix(y_test, y_pred)\n",
    "\n",
    "SMOTETomek_Recall = recall_score(y_test, y_pred)\n",
    "SMOTETomek_Precision = precision_score(y_test, y_pred)\n",
    "SMOTETomek_f1 = f1_score(y_test, y_pred)\n",
    "SMOTETomek_accuracy = accuracy_score(y_test, y_pred)\n",
    "\n",
    "print(cm)"
   ]
  },
  {
   "cell_type": "code",
   "execution_count": 33,
   "id": "f983a5da-ff30-4ac1-b27e-c5193da53a38",
   "metadata": {},
   "outputs": [
    {
     "data": {
      "text/html": [
       "<div>\n",
       "<style scoped>\n",
       "    .dataframe tbody tr th:only-of-type {\n",
       "        vertical-align: middle;\n",
       "    }\n",
       "\n",
       "    .dataframe tbody tr th {\n",
       "        vertical-align: top;\n",
       "    }\n",
       "\n",
       "    .dataframe thead th {\n",
       "        text-align: right;\n",
       "    }\n",
       "</style>\n",
       "<table border=\"1\" class=\"dataframe\">\n",
       "  <thead>\n",
       "    <tr style=\"text-align: right;\">\n",
       "      <th></th>\n",
       "      <th>qboost with</th>\n",
       "      <th>Recall</th>\n",
       "      <th>Precision</th>\n",
       "      <th>F1 Score</th>\n",
       "      <th>Accuracy</th>\n",
       "    </tr>\n",
       "  </thead>\n",
       "  <tbody>\n",
       "    <tr>\n",
       "      <th>0</th>\n",
       "      <td>SMOTE + Tomek</td>\n",
       "      <td>1.0</td>\n",
       "      <td>0.555556</td>\n",
       "      <td>0.714286</td>\n",
       "      <td>0.983936</td>\n",
       "    </tr>\n",
       "  </tbody>\n",
       "</table>\n",
       "</div>"
      ],
      "text/plain": [
       "     qboost with  Recall  Precision  F1 Score  Accuracy\n",
       "0  SMOTE + Tomek     1.0   0.555556  0.714286  0.983936"
      ]
     },
     "execution_count": 33,
     "metadata": {},
     "output_type": "execute_result"
    }
   ],
   "source": [
    "ndf = [\n",
    "    (\n",
    "        SMOTETomek_Recall,\n",
    "        SMOTETomek_Precision,\n",
    "        SMOTETomek_f1,\n",
    "        SMOTETomek_accuracy,\n",
    "    )\n",
    "]\n",
    "\n",
    "SMOTETomek_score = pd.DataFrame(\n",
    "    data=ndf, columns=[\"Recall\", \"Precision\", \"F1 Score\", \"Accuracy\"]\n",
    ")\n",
    "SMOTETomek_score.insert(0, f'{model_name} with', \"SMOTE + Tomek\")\n",
    "SMOTETomek_score"
   ]
  },
  {
   "cell_type": "code",
   "execution_count": 34,
   "id": "fde07f22-c4b8-420a-b406-b7d6dee09f15",
   "metadata": {
    "editable": true,
    "slideshow": {
     "slide_type": ""
    },
    "tags": []
   },
   "outputs": [
    {
     "data": {
      "text/html": [
       "<div>\n",
       "<style scoped>\n",
       "    .dataframe tbody tr th:only-of-type {\n",
       "        vertical-align: middle;\n",
       "    }\n",
       "\n",
       "    .dataframe tbody tr th {\n",
       "        vertical-align: top;\n",
       "    }\n",
       "\n",
       "    .dataframe thead th {\n",
       "        text-align: right;\n",
       "    }\n",
       "</style>\n",
       "<table border=\"1\" class=\"dataframe\">\n",
       "  <thead>\n",
       "    <tr style=\"text-align: right;\">\n",
       "      <th></th>\n",
       "      <th>qboost with</th>\n",
       "      <th>Recall</th>\n",
       "      <th>Precision</th>\n",
       "      <th>F1 Score</th>\n",
       "      <th>Accuracy</th>\n",
       "    </tr>\n",
       "  </thead>\n",
       "  <tbody>\n",
       "    <tr>\n",
       "      <th>2</th>\n",
       "      <td>SMOTE + Tomek</td>\n",
       "      <td>1.0</td>\n",
       "      <td>0.555556</td>\n",
       "      <td>0.714286</td>\n",
       "      <td>0.983936</td>\n",
       "    </tr>\n",
       "    <tr>\n",
       "      <th>1</th>\n",
       "      <td>Random Oversampling</td>\n",
       "      <td>0.8</td>\n",
       "      <td>0.666667</td>\n",
       "      <td>0.727273</td>\n",
       "      <td>0.987952</td>\n",
       "    </tr>\n",
       "    <tr>\n",
       "      <th>0</th>\n",
       "      <td>Baseline</td>\n",
       "      <td>0.6</td>\n",
       "      <td>0.600000</td>\n",
       "      <td>0.600000</td>\n",
       "      <td>0.983936</td>\n",
       "    </tr>\n",
       "  </tbody>\n",
       "</table>\n",
       "</div>"
      ],
      "text/plain": [
       "           qboost with  Recall  Precision  F1 Score  Accuracy\n",
       "2        SMOTE + Tomek     1.0   0.555556  0.714286  0.983936\n",
       "1  Random Oversampling     0.8   0.666667  0.727273  0.987952\n",
       "0             Baseline     0.6   0.600000  0.600000  0.983936"
      ]
     },
     "execution_count": 34,
     "metadata": {},
     "output_type": "execute_result"
    }
   ],
   "source": [
    "predictions = pd.concat(\n",
    "    [baseline_score, over_score, SMOTETomek_score], ignore_index=True, sort=False\n",
    ")\n",
    "predictions.sort_values(by=[\"Recall\"], ascending=False)"
   ]
  },
  {
   "cell_type": "code",
   "execution_count": 35,
   "id": "a8555fa3-22a3-493e-a29e-618fea5934c0",
   "metadata": {},
   "outputs": [],
   "source": [
    "predictions.to_csv('results/qboost_dwave.csv')"
   ]
  },
  {
   "cell_type": "markdown",
   "id": "6f1e9c36-926d-4efd-a027-8a1f2933b09c",
   "metadata": {
    "editable": true,
    "slideshow": {
     "slide_type": ""
    },
    "tags": []
   },
   "source": [
    "## Summary\n",
    "\n",
    "- The Smote Tomek model proved highly effective in detecting all rain events, though at the cost of some false positives, making it suitable for applications prioritizing recall.\n",
    "- Random oversampling model offered a balanced performance for both classes and minimizing the risk of false positives while maintaining high recall."
   ]
  },
  {
   "cell_type": "markdown",
   "id": "cabff48d-61c1-4a58-bad0-0ee51e484b5c",
   "metadata": {},
   "source": [
    "## ROC-AUC curve"
   ]
  },
  {
   "cell_type": "code",
   "execution_count": 36,
   "id": "c749a182-eb79-4c50-9b02-06b9418901c2",
   "metadata": {},
   "outputs": [
    {
     "name": "stdout",
     "output_type": "stream",
     "text": [
      "AUC-ROC Curve for SVC with Class weights: 0.8959\n"
     ]
    }
   ],
   "source": [
    "y_pred = ro_model.predict(X_test)\n",
    "ROCAUCscore = roc_auc_score(y_test, y_pred)\n",
    "print(f\"AUC-ROC Curve for SVC with Class weights: {ROCAUCscore:.4f}\")"
   ]
  },
  {
   "cell_type": "code",
   "execution_count": 37,
   "id": "b08e03bc-99d8-442b-9ab0-68da3eeb5e9a",
   "metadata": {},
   "outputs": [
    {
     "name": "stdout",
     "output_type": "stream",
     "text": [
      "AUC-ROC Curve for SVC with Class weights: 0.9918\n"
     ]
    }
   ],
   "source": [
    "y_pred = smote_tomek_model.predict(X_test)\n",
    "ROCAUCscore = roc_auc_score(y_test, y_pred)\n",
    "print(f\"AUC-ROC Curve for SVC with Class weights: {ROCAUCscore:.4f}\")"
   ]
  }
 ],
 "metadata": {
  "kernelspec": {
   "display_name": "Python (jetix)",
   "language": "python",
   "name": "jetix"
  },
  "language_info": {
   "codemirror_mode": {
    "name": "ipython",
    "version": 3
   },
   "file_extension": ".py",
   "mimetype": "text/x-python",
   "name": "python",
   "nbconvert_exporter": "python",
   "pygments_lexer": "ipython3",
   "version": "3.10.0"
  }
 },
 "nbformat": 4,
 "nbformat_minor": 5
}
